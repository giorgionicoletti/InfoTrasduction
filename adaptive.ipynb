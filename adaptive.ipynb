{
 "cells": [
  {
   "cell_type": "code",
   "execution_count": 1,
   "metadata": {},
   "outputs": [],
   "source": [
    "import numpy as np\n",
    "\n",
    "import matplotlib.pyplot as plt\n",
    "\n",
    "from numba import njit, prange"
   ]
  },
  {
   "cell_type": "code",
   "execution_count": 8,
   "metadata": {},
   "outputs": [],
   "source": [
    "@njit\n",
    "def simulate_xyeta(Nsteps, dt, sigma, a, theta_eta, tau_x = 1, theta_y = 1, x0 = 0, y0 = 0, eta0 = 0):\n",
    "    x = np.zeros(Nsteps, dtype=np.float64)\n",
    "    y = np.zeros(Nsteps, dtype=np.float64)\n",
    "    eta = np.zeros(Nsteps, dtype=np.float64)\n",
    "\n",
    "    tau_y = theta_y * tau_x\n",
    "    tau_eta = theta_eta * tau_x\n",
    "    sqtau_x = np.sqrt(dt/tau_x)\n",
    "    sqtau_y = np.sqrt(dt/tau_y)\n",
    "    sqtau_eta = np.sqrt(dt/tau_eta)\n",
    "\n",
    "    x[0] = x0\n",
    "    y[0] = y0\n",
    "    eta[0] = eta0\n",
    "\n",
    "\n",
    "    for t in range(Nsteps-1):\n",
    "        y[t + 1] = y[t] + dt * (-y[t] + a * x[t])/tau_y + np.random.randn() * sqtau_y\n",
    "        x[t + 1] = x[t] + dt * (-x[t] + sigma * eta[t])/tau_x + np.random.randn() * sqtau_x\n",
    "        eta[t + 1] = eta[t] + dt * (-eta[t])/tau_eta + np.random.randn() * sqtau_eta\n",
    "        \n",
    "        \n",
    "    return x, y, eta"
   ]
  },
  {
   "cell_type": "code",
   "execution_count": 98,
   "metadata": {},
   "outputs": [],
   "source": [
    "@njit\n",
    "def cov_matrix(sigma, theta_eta, a):\n",
    "    theta = 1 + theta_eta\n",
    "    offdiag = 1/2*a*(1 + theta_eta*sigma**2*(1+2*theta_eta)/theta**2)\n",
    "    return np.array([[1 + theta_eta*sigma**2/theta,\n",
    "                      offdiag],\n",
    "                     [offdiag,\n",
    "                      1 + a*offdiag]])\n",
    "\n",
    "@njit\n",
    "def probability_xy(x, y, det, cov_inv):\n",
    "    return np.exp(-0.5 * (x**2 * cov_inv[0,0] + y**2 * cov_inv[1,1] + 2*x*y*cov_inv[0,1])) / (2*np.pi*np.sqrt(det))\n",
    "\n",
    "@njit\n",
    "def probability_x(x, cov):\n",
    "    return np.exp(-0.5 * (x**2 / cov[0,0])) / (np.sqrt(2*np.pi*cov[0,0]))\n",
    "\n",
    "@njit\n",
    "def probability_y(y, cov):\n",
    "    return np.exp(-0.5 * (y**2 / cov[1,1])) / (np.sqrt(2*np.pi*cov[1,1]))\n",
    "\n",
    "@njit\n",
    "def find_mutual_traj(Nsteps, dt, sigma, a, theta_eta, tau_x = 1, theta_y = 1, Nburn = 1000000):\n",
    "    x0, y0, eta0 = simulate_xyeta(Nburn, dt, sigma, a, theta_eta, tau_x, theta_y)\n",
    "    x, y, _ = simulate_xyeta(Nsteps, dt, sigma, a, theta_eta, tau_x, theta_y, x0[-1], y0[-1], eta0[-1])\n",
    "    x0 = None\n",
    "    y0 = None\n",
    "\n",
    "    cov = cov_matrix(sigma, theta_eta, a)\n",
    "    det = np.linalg.det(cov)\n",
    "    cov_inv = np.linalg.inv(cov)\n",
    "\n",
    "\n",
    "    mutual_trajectory = np.zeros(Nsteps, dtype=np.float64)\n",
    "\n",
    "    for t in range(Nsteps):\n",
    "        pjoint_curr = probability_xy(x[t], y[t], det, cov_inv)\n",
    "        px_curr = probability_x(x[t], cov)\n",
    "        py_curr = probability_y(y[t], cov)\n",
    "        mutual_trajectory[t] = np.log(pjoint_curr / (px_curr * py_curr))\n",
    "\n",
    "    return mutual_trajectory, x, y\n",
    "\n",
    "@njit\n",
    "def find_Axy(sigma, theta_eta, a):\n",
    "    theta = 1 + theta_eta\n",
    "\n",
    "    den = (4 + a**2)*theta**4 + 2*(2+a**2)*theta_eta*theta**3*sigma**2\n",
    "    den += a**2*theta_eta**2*(theta + theta_eta)*sigma**4\n",
    "\n",
    "    num1 = 4*theta**4 + a**2*(theta**4 + 2*(theta_eta + theta_eta**2)**2*sigma**2 - theta_eta**2*(theta + theta_eta)*sigma**4)\n",
    "    num2 = 2*a*theta_eta*theta*sigma**2*(-1+theta_eta**2-theta_eta*sigma**2)\n",
    "\n",
    "    return np.array([[num1/den, - num2/den],\n",
    "                     [- a, 1]])\n",
    "\n",
    "@njit\n",
    "def find_Sxy_traj(Nsteps, dt, sigma, a, theta_eta, tau_x = 1, theta_y = 1, Nburn = 1000000):\n",
    "    x0, y0, eta0 = simulate_xyeta(Nburn, dt, sigma, a, theta_eta, tau_x, theta_y)\n",
    "    x, y, _ = simulate_xyeta(Nsteps, dt, sigma, a, theta_eta, tau_x, theta_y, x0[-1], y0[-1], eta0[-1])\n",
    "    x0 = None\n",
    "    y0 = None\n",
    "\n",
    "    Amat = find_Axy(sigma, theta_eta, a)\n",
    "\n",
    "    Sx_traj = np.zeros(Nsteps - 1, dtype = np.float64)\n",
    "    Sy_traj = np.zeros(Nsteps - 1, dtype = np.float64)\n",
    "\n",
    "    for t in range(Nsteps-1):\n",
    "        Deltax = x[t+1] - x[t]\n",
    "        Deltay = y[t+1] - y[t]\n",
    "        Stratx = 1/2*(x[t+1] + x[t])\n",
    "        Straty = 1/2*(y[t+1] + y[t])\n",
    "        Sx_traj[t] = (-Amat[0,0]*Stratx - Amat[0,1]*Straty)*Deltax/dt\n",
    "        Sy_traj[t] = (-Amat[1,0]*Stratx - Amat[1,1]*Straty)*Deltay/dt\n",
    "\n",
    "        # Sx_traj[t], Sy_traj[t] = -np.dot(Amat, 1/2*np.array([x[t] + x[t+1] , y[t] + y[t+1]]))*np.array([x[t+1] - x[t] , y[t+1] - y[t]])\n",
    "\n",
    "    return Sx_traj, Sy_traj"
   ]
  },
  {
   "cell_type": "code",
   "execution_count": 99,
   "metadata": {},
   "outputs": [],
   "source": [
    "Nsteps = int(5e7)\n",
    "sigma = 0.63\n",
    "theta_eta = 3.2\n",
    "a = 9.6\n",
    "dt = 1e-3\n",
    "Sx_traj, Sy_traj = find_Sxy_traj(Nsteps, dt, sigma, a, theta_eta, Nburn = 100000)"
   ]
  },
  {
   "cell_type": "code",
   "execution_count": 100,
   "metadata": {},
   "outputs": [
    {
     "data": {
      "text/plain": [
       "(-0.043062922122522655, 24.687403456573062)"
      ]
     },
     "execution_count": 100,
     "metadata": {},
     "output_type": "execute_result"
    }
   ],
   "source": [
    "Sx_traj.mean(), Sy_traj.mean()"
   ]
  },
  {
   "cell_type": "code",
   "execution_count": 84,
   "metadata": {},
   "outputs": [],
   "source": [
    "Nsteps = int(5e7)\n",
    "sigma = 0.63\n",
    "theta_eta = 1.2\n",
    "a = 13.1\n",
    "dt = 1e-4\n",
    "\n",
    "MI_traj, xMI, yMI = find_mutual_traj(Nsteps, dt, sigma, a, theta_eta, Nburn = 100000)"
   ]
  },
  {
   "cell_type": "code",
   "execution_count": 85,
   "metadata": {},
   "outputs": [
    {
     "data": {
      "text/plain": [
       "0.39543734152677096"
      ]
     },
     "execution_count": 85,
     "metadata": {},
     "output_type": "execute_result"
    }
   ],
   "source": [
    "MI_traj.mean()"
   ]
  },
  {
   "cell_type": "code",
   "execution_count": 74,
   "metadata": {},
   "outputs": [
    {
     "data": {
      "text/plain": [
       "array([[ 8.20845124e-01,  1.65803590e-04],\n",
       "       [-1.31000000e+01,  1.00000000e+00]])"
      ]
     },
     "execution_count": 74,
     "metadata": {},
     "output_type": "execute_result"
    }
   ],
   "source": [
    "find_Axy(sigma, theta_eta, a)"
   ]
  },
  {
   "cell_type": "code",
   "execution_count": null,
   "metadata": {},
   "outputs": [],
   "source": []
  },
  {
   "cell_type": "code",
   "execution_count": null,
   "metadata": {},
   "outputs": [],
   "source": []
  }
 ],
 "metadata": {
  "kernelspec": {
   "display_name": "minpy",
   "language": "python",
   "name": "python3"
  },
  "language_info": {
   "codemirror_mode": {
    "name": "ipython",
    "version": 3
   },
   "file_extension": ".py",
   "mimetype": "text/x-python",
   "name": "python",
   "nbconvert_exporter": "python",
   "pygments_lexer": "ipython3",
   "version": "3.9.18"
  }
 },
 "nbformat": 4,
 "nbformat_minor": 2
}
