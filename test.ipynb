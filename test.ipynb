{
 "cells": [
  {
   "cell_type": "code",
   "execution_count": 1,
   "metadata": {},
   "outputs": [],
   "source": [
    "import numpy as np\n",
    "import matplotlib.pyplot as plt\n",
    "from numba import njit, prange"
   ]
  },
  {
   "cell_type": "code",
   "execution_count": 295,
   "metadata": {},
   "outputs": [],
   "source": [
    "@njit\n",
    "def agrad(a, sigma, x, y, lam):\n",
    "    z = 4 + a**2 + 2*sigma**2*(2 + a**2)\n",
    "    zeta = 1 + 2*sigma**2\n",
    "    xi = 1 + sigma**2\n",
    "    k = 1 + a**2\n",
    "\n",
    "    gr1 = 2*(16 + a**2)*(-1 + lam)*z*zeta\n",
    "    gr1 *= 5*a*x**2 + 2*a**3*x**2 - 4*x*y - 3*a**2*x*y + a*y**2 + 2*(a*x - y)*(x + 2*a**2*x - a*y)*sigma**2\n",
    "    gr2 = 2*a*(-1 + lam)*(z-2*zeta*(16 + a**2))\n",
    "    gr2 *= (3 + k)*(-2*a*x*y + y**2 + x**2*k) + 4*(a*x - y)*(-y*(1 + k) + a*x*(2+k))*sigma**2 + 4*(-a*x + y)**2*k*sigma**4\n",
    "\n",
    "    gr3 = a**6*x*y*zeta**3 + a**5*zeta**3*(-1 +2*x**2-y**2) - 16*x*y*xi + 8*a*zeta*(x**2 + y**2*xi - xi)\n",
    "    gr3 += 2*a**3*zeta**2*(-3 + 4*x**2 -2*sigma**2) -4*a**4*x*y*(sigma + 2*sigma**3)**2 - 4*a**2*x*y*(3 + 10*sigma**2 + 8*sigma**4)\n",
    "    gr3 *= -2*z*zeta*lam/(2 + a**2*zeta)**2\n",
    "\n",
    "    gr4 = (16 + a**2)*(-1 + lam)\n",
    "    gr4 *= (3 + k)*(-2*a*x*y + y**2 + x**2*k) + 4*(a*x - y)*(-y*(1 + k) + a*x*(2+k))*sigma**2 + 4*(-a*x + y)**2*k*sigma**4\n",
    "    gr4 *= 1/z**2\n",
    "    gr4 += lam/2*(-2*(-a*x + y)**2/(1+k) + x**2/xi + 2*y**2/(1 + k +2*a**2*sigma**2) - 2*(2*x + a*y)**2/(8 + 6*a**2 + a**4 + 2*(1+k)**2*sigma**2) + np.log(2*(2+a**2*zeta)*xi/z))\n",
    "    gr4 *= -z*zeta*(a**3*zeta + 2*a**2*x*y*zeta -8*x*y*xi + 4*a*(x**2*zeta + xi - y**2*xi))\n",
    "\n",
    "    return (gr1 + gr2 + gr3 + gr4)/np.exp(3*np.log(z))"
   ]
  },
  {
   "cell_type": "code",
   "execution_count": 330,
   "metadata": {},
   "outputs": [],
   "source": [
    "@njit\n",
    "def simulate_xyeta(Nsteps, dt, sigma, theta_eta, lam = 0.9, tau_x = 1, theta_y = 1, tau_a = 1):\n",
    "    x = np.zeros(Nsteps, dtype=np.float64)\n",
    "    y = np.zeros(Nsteps, dtype=np.float64)\n",
    "    eta = np.zeros(Nsteps, dtype=np.float64)\n",
    "    a = np.zeros(Nsteps, dtype=np.float64)\n",
    "    grads = np.zeros(Nsteps - 1, dtype=np.float64)\n",
    "\n",
    "    x0 = np.random.randn()\n",
    "    y0 = np.random.randn()\n",
    "    eta0 = np.random.randn()\n",
    "    a0 = 0\n",
    "\n",
    "    tau_y = theta_y * tau_x\n",
    "    tau_eta = theta_eta * tau_x\n",
    "    sqtau_x = np.sqrt(dt/tau_x)\n",
    "    sqtau_y = np.sqrt(dt/tau_y)\n",
    "    sqtau_eta = np.sqrt(dt/tau_eta)\n",
    "\n",
    "    x[0] = x0\n",
    "    y[0] = y0\n",
    "    eta[0] = eta0\n",
    "    a[0] = a0\n",
    "\n",
    "\n",
    "    for t in range(Nsteps-1):\n",
    "        y[t + 1] = y[t] + dt * (-y[t] + a[t] * x[t])/tau_y + np.random.randn() * sqtau_y\n",
    "        x[t + 1] = x[t] + dt * (-x[t] + sigma * eta[t])/tau_x + np.random.randn() * sqtau_x\n",
    "        eta[t + 1] = eta[t] + dt * (-eta[t])/tau_eta + np.random.randn() * sqtau_eta\n",
    "        grads[t] = agrad(a[t], sigma, x[t], y[t], lam)\n",
    "        a[t + 1] = a[t] + dt * agrad(a[t], sigma, x[t], y[t], lam)/tau_a\n",
    "        \n",
    "        \n",
    "    return x, y, eta, a, grads"
   ]
  },
  {
   "cell_type": "code",
   "execution_count": 375,
   "metadata": {},
   "outputs": [
    {
     "data": {
      "text/plain": [
       "0.34754978677052717"
      ]
     },
     "execution_count": 375,
     "metadata": {},
     "output_type": "execute_result"
    }
   ],
   "source": [
    "Nsteps = int(5e8)\n",
    "dt = 1e-5\n",
    "sigma = 2\n",
    "\n",
    "theta_eta = 1000\n",
    "\n",
    "Time = np.arange(0, Nsteps) * dt\n",
    "x, y, eta, a, grads = simulate_xyeta(Nsteps, dt, sigma, theta_eta, tau_a = 50, lam = 0.3)\n",
    "#a = a[int(1e7):]\n",
    "np.mean(abs(a))"
   ]
  },
  {
   "cell_type": "code",
   "execution_count": 376,
   "metadata": {},
   "outputs": [
    {
     "ename": "",
     "evalue": "",
     "output_type": "error",
     "traceback": [
      "\u001b[1;31mThe Kernel crashed while executing code in the the current cell or a previous cell. Please review the code in the cell(s) to identify a possible cause of the failure. Click <a href='https://aka.ms/vscodeJupyterKernelCrash'>here</a> for more info. View Jupyter <a href='command:jupyter.viewOutput'>log</a> for further details."
     ]
    }
   ],
   "source": [
    "plt.plot(a)\n",
    "plt.show()\n",
    "\n",
    "np.mean(abs(a))"
   ]
  },
  {
   "cell_type": "code",
   "execution_count": 158,
   "metadata": {},
   "outputs": [
    {
     "data": {
      "image/png": "[encoded data removed]",
      "text/plain": [
       "<Figure size 640x480 with 1 Axes>"
      ]
     },
     "metadata": {},
     "output_type": "display_data"
    }
   ],
   "source": [
    "plt.plot(Time, x, label='x')\n",
    "plt.plot(Time, y, label='y')\n",
    "plt.show()"
   ]
  },
  {
   "cell_type": "code",
   "execution_count": null,
   "metadata": {},
   "outputs": [],
   "source": []
  }
 ],
 "metadata": {
  "kernelspec": {
   "display_name": "Python 3",
   "language": "python",
   "name": "python3"
  },
  "language_info": {
   "codemirror_mode": {
    "name": "ipython",
    "version": 3
   },
   "file_extension": ".py",
   "mimetype": "text/x-python",
   "name": "python",
   "nbconvert_exporter": "python",
   "pygments_lexer": "ipython3",
   "version": "3.9.18"
  }
 },
 "nbformat": 4,
 "nbformat_minor": 2
}
